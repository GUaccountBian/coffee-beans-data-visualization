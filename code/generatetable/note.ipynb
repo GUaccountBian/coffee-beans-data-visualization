{
 "cells": [
  {
   "cell_type": "code",
   "execution_count": 1,
   "metadata": {},
   "outputs": [],
   "source": [
    "import pandas as pd\n",
    "\n",
    "# Read the CSV file\n",
    "data = pd.read_csv(\"../../data/folder?/coffee_analysis.csv\")\n",
    "\n",
    "# Convert the DataFrame to an HTML table\n",
    "html_table = data.to_html(index=False, classes=\"display\")\n",
    "\n",
    "# Save the generated HTML table to a file\n",
    "with open(\"table.html\", \"w\") as f:\n",
    "    f.write(html_table)\n"
   ]
  },
  {
   "cell_type": "code",
   "execution_count": 3,
   "metadata": {},
   "outputs": [],
   "source": [
    "# Read the HTML template\n",
    "with open(\"template.html\", \"r\") as f:\n",
    "    html_template = f.read()\n",
    "\n",
    "# Replace the {% include \"table.html\" %} placeholder with the generated HTML table\n",
    "final_html = html_template.replace(\"{% include \\\"table.html\\\" %}\", html_table)\n",
    "\n",
    "# Save the final HTML file\n",
    "with open(\"final_output.html\", \"w\") as f:\n",
    "    f.write(final_html)\n"
   ]
  }
 ],
 "metadata": {
  "kernelspec": {
   "display_name": "anly503",
   "language": "python",
   "name": "python3"
  },
  "language_info": {
   "codemirror_mode": {
    "name": "ipython",
    "version": 3
   },
   "file_extension": ".py",
   "mimetype": "text/x-python",
   "name": "python",
   "nbconvert_exporter": "python",
   "pygments_lexer": "ipython3",
   "version": "3.10.8"
  },
  "orig_nbformat": 4
 },
 "nbformat": 4,
 "nbformat_minor": 2
}
