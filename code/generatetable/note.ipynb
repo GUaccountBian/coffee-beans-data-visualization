{
 "cells": [
  {
   "cell_type": "code",
   "execution_count": 1,
   "metadata": {},
   "outputs": [],
   "source": [
    "import pandas as pd\n",
    "# Read the CSV file\n",
    "production = pd.read_csv(\"../../data/FAO coffee bean production/coffee-bean-production.csv\")\n",
    "production.rename(columns={production.columns[3]:\"Tonnes\"},inplace=True)\n"
   ]
  },
  {
   "cell_type": "code",
   "execution_count": 2,
   "metadata": {},
   "outputs": [],
   "source": [
    "bean = pd.read_csv(\"../../data/Coffee Bean Kaggle/merged_data_cleaned.csv\").drop(columns=\"Unnamed: 0\")\n",
    "# Define a dictionary of new column names\n",
    "new_column_names = {\n",
    "    'Species': 'Coffee Species',\n",
    "    'Owner': 'Farm Owner',\n",
    "    'Country.of.Origin': 'Country of Origin',\n",
    "    'Farm.Name': 'Farm Name',\n",
    "    'Lot.Number': 'Lot Number',\n",
    "    'ICO.Number': 'ICO Number',\n",
    "    'Company': 'Coffee Company',\n",
    "    'Altitude': 'Altitude (m)',\n",
    "    'Region': 'Region',\n",
    "    'Producer': 'Coffee Producer',\n",
    "    'Number.of.Bags': 'Number of Bags',\n",
    "    'Bag.Weight': 'Bag Weight (kg)',\n",
    "    'In.Country.Partner': 'In-Country Partner',\n",
    "    'Harvest.Year': 'Harvest Year',\n",
    "    'Grading.Date': 'Grading Date',\n",
    "    'Owner.1': 'Owner',\n",
    "    'Variety': 'Coffee Variety',\n",
    "    'Processing.Method': 'Processing Method',\n",
    "    'Aroma': 'Aroma Score',\n",
    "    'Flavor': 'Flavor Score',\n",
    "    'Aftertaste': 'Aftertaste Score',\n",
    "    'Acidity': 'Acidity Score',\n",
    "    'Body': 'Body Score',\n",
    "    'Balance': 'Balance Score',\n",
    "    'Uniformity': 'Uniformity Score',\n",
    "    'Clean.Cup': 'Clean Cup Score',\n",
    "    'Sweetness': 'Sweetness Score',\n",
    "    'Cupper.Points': 'Cupper Points',\n",
    "    'Total.Cup.Points': 'Total Cup Points',\n",
    "    'Moisture': 'Moisture Content (%)',\n",
    "    'Category.One.Defects': 'Category One Defects',\n",
    "    'Quakers': 'Quakers',\n",
    "    'Color': 'Bean Color',\n",
    "    'Category.Two.Defects': 'Category Two Defects',\n",
    "    'Expiration': 'Expiration Date',\n",
    "    'Certification.Body': 'Certification Body',\n",
    "    'Certification.Address': 'Certification Address',\n",
    "    'Certification.Contact': 'Certification Contact',\n",
    "    'unit_of_measurement': 'Measurement Unit',\n",
    "    'altitude_low_meters': 'Altitude Low (m)',\n",
    "    'altitude_high_meters': 'Altitude High (m)',\n",
    "    'altitude_mean_meters': 'Altitude Mean (m)'\n",
    "}\n",
    "\n",
    "# Rename the columns using the dictionary\n",
    "bean = bean.rename(columns=new_column_names)"
   ]
  },
  {
   "cell_type": "code",
   "execution_count": 3,
   "metadata": {},
   "outputs": [],
   "source": [
    "reviews = pd.read_csv(\"../../data/Coffee Review Kaggle/coffee_analysis.csv\")\n",
    "\n",
    "reviews = reviews.rename(columns={\n",
    "    'name': 'Coffee Name',\n",
    "    'roaster': 'Roaster',\n",
    "    'roast': 'Roast Type',\n",
    "    'loc_country': 'Location Country',\n",
    "    'origin_1': 'Origin Country 1',\n",
    "    'origin_2': 'Origin Country 2',\n",
    "    '100g_USD': 'Price per 100g (USD)',\n",
    "    'rating': 'Rating',\n",
    "    'review_date': 'Review Date',\n",
    "    'desc_1': 'Descriptor 1',\n",
    "    'desc_2': 'Descriptor 2',\n",
    "    'desc_3': 'Descriptor 3',\n",
    "})"
   ]
  },
  {
   "cell_type": "code",
   "execution_count": 4,
   "metadata": {},
   "outputs": [],
   "source": [
    "def create_final_html(data,table_name):\n",
    "    # Convert the DataFrame to an HTML table\n",
    "    html_table = data.to_html(index=False, classes=\"display\")\n",
    "\n",
    "    # Save the generated HTML table to a file\n",
    "    with open(\"table.html\", \"w\") as f:\n",
    "        f.write(html_table)\n",
    "\n",
    "    # Read the HTML template\n",
    "    with open(\"template.html\", \"r\") as f:\n",
    "        html_template = f.read()\n",
    "\n",
    "    # Replace the {% include \"table.html\" %} placeholder with the generated HTML table\n",
    "    final_html = html_template.replace(\"{% include \\\"table.html\\\" %}\", html_table)\n",
    "\n",
    "    # Save the final HTML file\n",
    "    with open(table_name, \"w\") as f:\n",
    "        f.write(final_html)\n"
   ]
  },
  {
   "cell_type": "code",
   "execution_count": 5,
   "metadata": {},
   "outputs": [],
   "source": [
    "# coffee production\n",
    "create_final_html(production,\"production_table.html\")\n",
    "# coffee bean\n",
    "create_final_html(bean,\"bean_table.html\")\n",
    "# Coffee Reviews\n",
    "create_final_html(reviews,\"review_table.html\")"
   ]
  }
 ],
 "metadata": {
  "kernelspec": {
   "display_name": "anly503",
   "language": "python",
   "name": "python3"
  },
  "language_info": {
   "codemirror_mode": {
    "name": "ipython",
    "version": 3
   },
   "file_extension": ".py",
   "mimetype": "text/x-python",
   "name": "python",
   "nbconvert_exporter": "python",
   "pygments_lexer": "ipython3",
   "version": "3.10.9"
  },
  "orig_nbformat": 4
 },
 "nbformat": 4,
 "nbformat_minor": 2
}
