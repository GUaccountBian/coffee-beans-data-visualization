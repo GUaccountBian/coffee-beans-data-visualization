{
 "cells": [
  {
   "cell_type": "code",
   "execution_count": 2,
   "metadata": {},
   "outputs": [],
   "source": [
    "import pandas as pd\n",
    "import numpy as np\n",
    "import matplotlib.pyplot as plt\n",
    "import plotly.express as px\n",
    "import plotly.graph_objects as go\n",
    "import plotly.figure_factory as ff\n",
    "\n",
    "from bokeh.charts import output_file, Chord\n",
    "from bokeh.io import show\n",
    "from bokeh.sampledata.les_mis import data\n",
    "\n",
    "%matplotlib inline"
   ]
  },
  {
   "cell_type": "code",
   "execution_count": 3,
   "metadata": {},
   "outputs": [],
   "source": [
    "coffee = pd.read_csv(\n",
    "    \"../data/Coffee Bean Kaggle/merged_data_cleaned.csv\").drop(columns=\"Unnamed: 0\")\n",
    "\n",
    "coffee = coffee[coffee[\"Country.of.Origin\"].notna()]\n",
    "\n",
    "coffee['Country.of.Origin'] = coffee['Country.of.Origin'].str.replace(\n",
    "    \"Taiwan\", \"China\")\n",
    "\n",
    "coffee[\"Country.of.Origin\"] = coffee[\"Country.of.Origin\"].replace(\n",
    "    \"United States (Hawaii)\", \"Hawaii\"\n",
    ")\n",
    "\n",
    "coffee[\"Country.of.Origin\"] = coffee[\"Country.of.Origin\"].replace(\n",
    "    \"Tanzania, United Republic Of\", \"Tanzania\"\n",
    ")\n",
    "\n",
    "coffee[\"Country.of.Origin\"] = coffee[\"Country.of.Origin\"].replace(\n",
    "    \"United States (Puerto Rico)\", \"Puerto Rico\"\n",
    ")"
   ]
  },
  {
   "attachments": {},
   "cell_type": "markdown",
   "metadata": {},
   "source": [
    "Looking for Variety"
   ]
  },
  {
   "cell_type": "code",
   "execution_count": 4,
   "metadata": {},
   "outputs": [
    {
     "data": {
      "text/plain": [
       "array([nan, 'Other', 'Bourbon', 'Catimor', 'Ethiopian Yirgacheffe',\n",
       "       'Caturra', 'SL14', 'Sumatra', 'SL34', 'Hawaiian Kona',\n",
       "       'Yellow Bourbon', 'SL28', 'Gesha', 'Catuai', 'Pacamara', 'Typica',\n",
       "       'Sumatra Lintong', 'Mundo Novo', 'Java', 'Peaberry', 'Pacas',\n",
       "       'Mandheling', 'Ruiru 11', 'Arusha', 'Ethiopian Heirlooms',\n",
       "       'Moka Peaberry', 'Sulawesi', 'Blue Mountain', 'Marigojipe',\n",
       "       'Pache Comun'], dtype=object)"
      ]
     },
     "execution_count": 4,
     "metadata": {},
     "output_type": "execute_result"
    }
   ],
   "source": [
    "coffee[\"Variety\"].unique()"
   ]
  },
  {
   "cell_type": "code",
   "execution_count": 5,
   "metadata": {},
   "outputs": [],
   "source": [
    "coffee = coffee[coffee[\"Variety\"].notna()]\n",
    "coffee = coffee[coffee[\"Variety\"] != \"Other\"]"
   ]
  },
  {
   "attachments": {},
   "cell_type": "markdown",
   "metadata": {},
   "source": [
    "The diagram will become too crowded with too many different categories.So, we choose to visualise only the top most frequently occurring Country.of.Origin and Variety."
   ]
  },
  {
   "cell_type": "code",
   "execution_count": 6,
   "metadata": {},
   "outputs": [
    {
     "data": {
      "text/plain": [
       "Mexico           216\n",
       "Guatemala        165\n",
       "Colombia         133\n",
       "Brazil           115\n",
       "China             81\n",
       "Honduras          49\n",
       "Hawaii            46\n",
       "Costa Rica        44\n",
       "Kenya             23\n",
       "Uganda            20\n",
       "El Salvador       15\n",
       "Nicaragua         13\n",
       "Indonesia         13\n",
       "Thailand          12\n",
       "Tanzania          12\n",
       "Malawi            11\n",
       "Ethiopia           7\n",
       "Haiti              5\n",
       "Panama             4\n",
       "Vietnam            4\n",
       "Myanmar            4\n",
       "Laos               2\n",
       "United States      2\n",
       "Peru               2\n",
       "Zambia             1\n",
       "Rwanda             1\n",
       "Philippines        1\n",
       "Burundi            1\n",
       "Japan              1\n",
       "Name: Country.of.Origin, dtype: int64"
      ]
     },
     "execution_count": 6,
     "metadata": {},
     "output_type": "execute_result"
    }
   ],
   "source": [
    "coffee[\"Country.of.Origin\"].value_counts()"
   ]
  },
  {
   "cell_type": "code",
   "execution_count": 7,
   "metadata": {},
   "outputs": [],
   "source": [
    "coffee = coffee[\n",
    "    coffee[\"Country.of.Origin\"].isin(\n",
    "        list(coffee[\"Country.of.Origin\"].value_counts()[:16].index)\n",
    "    )\n",
    "]\n",
    "\n",
    "coffee = coffee[\n",
    "    coffee[\"Variety\"].isin(list(coffee[\"Variety\"].value_counts()[:16].index))\n",
    "]\n"
   ]
  },
  {
   "attachments": {},
   "cell_type": "markdown",
   "metadata": {},
   "source": [
    "https://docs.bokeh.org/en/0.12.5/docs/gallery/chord_chart.html"
   ]
  }
 ],
 "metadata": {
  "kernelspec": {
   "display_name": "anly503",
   "language": "python",
   "name": "python3"
  },
  "language_info": {
   "codemirror_mode": {
    "name": "ipython",
    "version": 3
   },
   "file_extension": ".py",
   "mimetype": "text/x-python",
   "name": "python",
   "nbconvert_exporter": "python",
   "pygments_lexer": "ipython3",
   "version": "3.10.8"
  },
  "orig_nbformat": 4
 },
 "nbformat": 4,
 "nbformat_minor": 2
}
